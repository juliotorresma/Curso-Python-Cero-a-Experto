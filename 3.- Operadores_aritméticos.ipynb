{
  "nbformat": 4,
  "nbformat_minor": 0,
  "metadata": {
    "colab": {
      "name": "Operadores-aritméticos.ipynb",
      "provenance": [],
      "authorship_tag": "ABX9TyN9YtK9q0LaP58piwU3G3XU",
      "include_colab_link": true
    },
    "kernelspec": {
      "name": "python3",
      "display_name": "Python 3"
    }
  },
  "cells": [
    {
      "cell_type": "markdown",
      "metadata": {
        "id": "view-in-github",
        "colab_type": "text"
      },
      "source": [
        "<a href=\"https://colab.research.google.com/github/juliotorresma/Curso-Python-Cero-a-Experto/blob/main/Operadores_aritm%C3%A9ticos.ipynb\" target=\"_parent\"><img src=\"https://colab.research.google.com/assets/colab-badge.svg\" alt=\"Open In Colab\"/></a>"
      ]
    },
    {
      "cell_type": "markdown",
      "metadata": {
        "id": "lJIhv5IvBBaq"
      },
      "source": [
        "# **Suma**"
      ]
    },
    {
      "cell_type": "code",
      "metadata": {
        "colab": {
          "base_uri": "https://localhost:8080/"
        },
        "id": "JAvQ-E3mA9kI",
        "outputId": "befee411-e6f2-4a1a-f540-ecb63ec126ae"
      },
      "source": [
        "print(5 + 5)"
      ],
      "execution_count": null,
      "outputs": [
        {
          "output_type": "stream",
          "text": [
            "10\n"
          ],
          "name": "stdout"
        }
      ]
    },
    {
      "cell_type": "markdown",
      "metadata": {
        "id": "MhumlLiABFJr"
      },
      "source": [
        "# **Resta**"
      ]
    },
    {
      "cell_type": "code",
      "metadata": {
        "colab": {
          "base_uri": "https://localhost:8080/"
        },
        "id": "9pJ3E1dXBG3I",
        "outputId": "10432954-41d4-4c3b-8afe-ac600ebb806e"
      },
      "source": [
        "print(23 - 33)"
      ],
      "execution_count": null,
      "outputs": [
        {
          "output_type": "stream",
          "text": [
            "-10\n"
          ],
          "name": "stdout"
        }
      ]
    },
    {
      "cell_type": "markdown",
      "metadata": {
        "id": "x33i7U1GBXtl"
      },
      "source": [
        "# **Multiplicación**"
      ]
    },
    {
      "cell_type": "code",
      "metadata": {
        "id": "Zl3UNKTLBcGt"
      },
      "source": [
        "print(5 * 4 * 3 * 2 * 1)"
      ],
      "execution_count": null,
      "outputs": []
    },
    {
      "cell_type": "markdown",
      "metadata": {
        "id": "jECrK79BBnaB"
      },
      "source": [
        "# **División**\n",
        "Genera una division con decimal"
      ]
    },
    {
      "cell_type": "code",
      "metadata": {
        "colab": {
          "base_uri": "https://localhost:8080/"
        },
        "id": "VVX5ET5kBmeR",
        "outputId": "5433ec10-59e8-43df-83db-05a3fbd6fde6"
      },
      "source": [
        "print(21 / 5)"
      ],
      "execution_count": null,
      "outputs": [
        {
          "output_type": "stream",
          "text": [
            "4.2\n"
          ],
          "name": "stdout"
        }
      ]
    },
    {
      "cell_type": "markdown",
      "metadata": {
        "id": "GIycxvrBBm43"
      },
      "source": [
        "# **División entera**\n",
        "Genera una division y solamente te regresa el valor entero"
      ]
    },
    {
      "cell_type": "code",
      "metadata": {
        "colab": {
          "base_uri": "https://localhost:8080/"
        },
        "id": "e0lP24KpBxQT",
        "outputId": "1407a5db-198d-4d20-afd7-a0c53cf9c818"
      },
      "source": [
        "print(21 // 5)"
      ],
      "execution_count": null,
      "outputs": [
        {
          "output_type": "stream",
          "text": [
            "4\n"
          ],
          "name": "stdout"
        }
      ]
    },
    {
      "cell_type": "markdown",
      "metadata": {
        "id": "oQhqH714B_3z"
      },
      "source": [
        "# **Residuo de división** (modulo)\n",
        "Divide dos numeros y si existe algun residuo, lo regresa."
      ]
    },
    {
      "cell_type": "code",
      "metadata": {
        "colab": {
          "base_uri": "https://localhost:8080/"
        },
        "id": "d2TM0s1vCKCg",
        "outputId": "7ef38332-e051-4735-ae64-c0352f6c68c4"
      },
      "source": [
        "print(5 % 2)"
      ],
      "execution_count": null,
      "outputs": [
        {
          "output_type": "stream",
          "text": [
            "1\n"
          ],
          "name": "stdout"
        }
      ]
    },
    {
      "cell_type": "markdown",
      "metadata": {
        "id": "-_U-lAWgCuYI"
      },
      "source": [
        "# **Potencia**"
      ]
    },
    {
      "cell_type": "code",
      "metadata": {
        "colab": {
          "base_uri": "https://localhost:8080/"
        },
        "id": "DdU_mHcGCuo9",
        "outputId": "80c4e59c-ae0c-43b3-973c-ab82cc6ac340"
      },
      "source": [
        "print(5 ** 2)"
      ],
      "execution_count": null,
      "outputs": [
        {
          "output_type": "stream",
          "text": [
            "25\n"
          ],
          "name": "stdout"
        }
      ]
    },
    {
      "cell_type": "markdown",
      "metadata": {
        "id": "wxw7Q1hQCihE"
      },
      "source": [
        "# **Jerarquia de operaciones**"
      ]
    },
    {
      "cell_type": "code",
      "metadata": {
        "colab": {
          "base_uri": "https://localhost:8080/"
        },
        "id": "sPzJzJ2xCor4",
        "outputId": "0a951969-261c-4220-aee0-9943b8373833"
      },
      "source": [
        "print( 5 + 5 * 2)"
      ],
      "execution_count": null,
      "outputs": [
        {
          "output_type": "stream",
          "text": [
            "15\n"
          ],
          "name": "stdout"
        }
      ]
    }
  ]
}
