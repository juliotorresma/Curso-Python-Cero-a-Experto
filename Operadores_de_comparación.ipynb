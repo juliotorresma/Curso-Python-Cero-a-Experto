{
  "nbformat": 4,
  "nbformat_minor": 0,
  "metadata": {
    "colab": {
      "name": "Operadores-de-comparación.ipynb",
      "provenance": [],
      "authorship_tag": "ABX9TyM/7ghLhooR/Zm4HhSWqZ6c",
      "include_colab_link": true
    },
    "kernelspec": {
      "name": "python3",
      "display_name": "Python 3"
    }
  },
  "cells": [
    {
      "cell_type": "markdown",
      "metadata": {
        "id": "view-in-github",
        "colab_type": "text"
      },
      "source": [
        "<a href=\"https://colab.research.google.com/github/juliotorresma/Curso-Python-Cero-a-Experto/blob/main/Operadores_de_comparaci%C3%B3n.ipynb\" target=\"_parent\"><img src=\"https://colab.research.google.com/assets/colab-badge.svg\" alt=\"Open In Colab\"/></a>"
      ]
    },
    {
      "cell_type": "markdown",
      "metadata": {
        "id": "qng8xFY-8f05"
      },
      "source": [
        "# **Acordeón**\n",
        "numero_cinco = 5\n",
        "\n",
        "NUMERO_CINCO = 5"
      ]
    },
    {
      "cell_type": "code",
      "metadata": {
        "id": "4tahylub8qcX"
      },
      "source": [
        "numero_cinco = 5\n",
        "NUMERO_CINCO = 5\n",
        "numero_tres = 3\n",
        "numero_siete = 7"
      ],
      "execution_count": 9,
      "outputs": []
    },
    {
      "cell_type": "markdown",
      "metadata": {
        "id": "-VAZRrDP8ueD"
      },
      "source": [
        "# ==\n",
        "Compara dos valores y te dice si son iguales o no."
      ]
    },
    {
      "cell_type": "code",
      "metadata": {
        "colab": {
          "base_uri": "https://localhost:8080/"
        },
        "id": "tToVX_qu8tjs",
        "outputId": "26f52803-81b6-47d2-b34a-296508ddc7b4"
      },
      "source": [
        "numero_cinco == NUMERO_CINCO"
      ],
      "execution_count": 2,
      "outputs": [
        {
          "output_type": "execute_result",
          "data": {
            "text/plain": [
              "True"
            ]
          },
          "metadata": {
            "tags": []
          },
          "execution_count": 2
        }
      ]
    },
    {
      "cell_type": "markdown",
      "metadata": {
        "id": "BZc9nNQw9BoA"
      },
      "source": [
        "# !=\n",
        "Compara dos valores y te dice sin son diferentes o no."
      ]
    },
    {
      "cell_type": "code",
      "metadata": {
        "id": "9NZEh8YT9GB-"
      },
      "source": [
        "numero_cinco != NUMERO_CINCO"
      ],
      "execution_count": null,
      "outputs": []
    },
    {
      "cell_type": "code",
      "metadata": {
        "id": "WvvB6Cnw9IWX"
      },
      "source": [
        "numero_cinco != numero_tres"
      ],
      "execution_count": null,
      "outputs": []
    },
    {
      "cell_type": "markdown",
      "metadata": {
        "id": "CMgsh4LM-Zms"
      },
      "source": [
        "# > \n",
        "Compara si es mayor que otro valor."
      ]
    },
    {
      "cell_type": "code",
      "metadata": {
        "id": "JlvLy9qS-c-z"
      },
      "source": [
        "numero_cinco > numero_tres"
      ],
      "execution_count": null,
      "outputs": []
    },
    {
      "cell_type": "markdown",
      "metadata": {
        "id": "xzn9rSea-i0P"
      },
      "source": [
        "# <\n",
        "Compara si es mayor que otro valor."
      ]
    },
    {
      "cell_type": "code",
      "metadata": {
        "id": "SYk-7TZM-l57"
      },
      "source": [
        "numero_cinco < numero_tres"
      ],
      "execution_count": null,
      "outputs": []
    },
    {
      "cell_type": "markdown",
      "metadata": {
        "id": "rAk2UzNg-rMW"
      },
      "source": [
        "# >= \n",
        "Igual o mayor que el valor a comparar."
      ]
    },
    {
      "cell_type": "code",
      "metadata": {
        "id": "35md-Nhh-t7u"
      },
      "source": [
        "numero_cinco >= NUMERO_CINCO"
      ],
      "execution_count": null,
      "outputs": []
    },
    {
      "cell_type": "code",
      "metadata": {
        "colab": {
          "base_uri": "https://localhost:8080/"
        },
        "id": "2ybGGHhN-xER",
        "outputId": "76728359-383f-4fbe-fd3e-3440e4ae499d"
      },
      "source": [
        "numero_siete >=  numero_cinco"
      ],
      "execution_count": 12,
      "outputs": [
        {
          "output_type": "execute_result",
          "data": {
            "text/plain": [
              "True"
            ]
          },
          "metadata": {
            "tags": []
          },
          "execution_count": 12
        }
      ]
    },
    {
      "cell_type": "markdown",
      "metadata": {
        "id": "s8ZWch0M_DLg"
      },
      "source": [
        "# <=\n",
        "\n",
        "Igual o menor que el valor a comparar."
      ]
    },
    {
      "cell_type": "code",
      "metadata": {
        "id": "2BxOw1E5_GX_"
      },
      "source": [
        "numero_cinco <= NUMERO_CINCO"
      ],
      "execution_count": null,
      "outputs": []
    },
    {
      "cell_type": "code",
      "metadata": {
        "id": "bkctsaWm_LXM"
      },
      "source": [
        "numero_tres <=  numero_cinco"
      ],
      "execution_count": null,
      "outputs": []
    }
  ]
}