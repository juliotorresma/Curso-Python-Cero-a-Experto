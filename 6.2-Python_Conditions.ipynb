{
  "nbformat": 4,
  "nbformat_minor": 0,
  "metadata": {
    "colab": {
      "name": "Python Conditions.ipynb",
      "provenance": [],
      "authorship_tag": "ABX9TyPfObkxlguALw4P+aYNUIMk",
      "include_colab_link": true
    },
    "kernelspec": {
      "name": "python3",
      "display_name": "Python 3"
    },
    "language_info": {
      "name": "python"
    }
  },
  "cells": [
    {
      "cell_type": "markdown",
      "metadata": {
        "id": "view-in-github",
        "colab_type": "text"
      },
      "source": [
        "<a href=\"https://colab.research.google.com/github/juliotorresma/Curso-Python-Cero-a-Experto/blob/main/6.2-Python_Conditions.ipynb\" target=\"_parent\"><img src=\"https://colab.research.google.com/assets/colab-badge.svg\" alt=\"Open In Colab\"/></a>"
      ]
    },
    {
      "cell_type": "markdown",
      "metadata": {
        "id": "j7fVPsdB90pd"
      },
      "source": [
        "# **If**"
      ]
    },
    {
      "cell_type": "markdown",
      "metadata": {
        "id": "SACFtJMT9SNV"
      },
      "source": [
        "Python supports the usual logical conditions from mathematics:\n",
        "\n",
        "*    Equals: a == b\n",
        "*    Not Equals: a != b\n",
        "*    Less than: a < b\n",
        "*    Less than or equal to: a <= b\n",
        "*    Greater than: a > b\n",
        "*    Greater than or equal to: a >= b\n",
        "\n",
        "These conditions can be used in several ways, most commonly in \"if statements\" and loops.\n",
        "\n",
        "An \"if statement\" is written by using the **if** keyword."
      ]
    },
    {
      "cell_type": "code",
      "metadata": {
        "colab": {
          "base_uri": "https://localhost:8080/"
        },
        "id": "zr2dM6oC9HmI",
        "outputId": "a6a43715-9d22-45dd-aad0-f055633d2fe4"
      },
      "source": [
        "a = 33\n",
        "b = 200\n",
        "if b > a:\n",
        "  print(\"b is greater than a\")"
      ],
      "execution_count": 1,
      "outputs": [
        {
          "output_type": "stream",
          "text": [
            "b is greater than a\n"
          ],
          "name": "stdout"
        }
      ]
    },
    {
      "cell_type": "markdown",
      "metadata": {
        "id": "_sEUk3us9o-1"
      },
      "source": [
        "En este ejemplo usamos dos variables, a y b, que se usan como parte de la instrucción if para probar si b es mayor que a. \n",
        "\n",
        "Como a es 33 y b es 200, sabemos que 200 es mayor que 33, por lo que imprimimos en la pantalla que \"b es mayor que a\"."
      ]
    },
    {
      "cell_type": "markdown",
      "metadata": {
        "id": "FdJQUF2Y93-G"
      },
      "source": [
        "# **Elif**\n",
        "\n",
        "La palabra clave **elif** es la forma que tiene Python de decir \"si las condiciones anteriores no eran verdaderas, pruebe esta condición\"."
      ]
    },
    {
      "cell_type": "code",
      "metadata": {
        "id": "CXCOhpBu9i5J"
      },
      "source": [
        "a = 33\n",
        "b = 33\n",
        "if b > a:\n",
        "  print(\"b is greater than a\")\n",
        "elif a == b:\n",
        "  print(\"a and b are equal\")"
      ],
      "execution_count": null,
      "outputs": []
    },
    {
      "cell_type": "markdown",
      "metadata": {
        "id": "EDy8oYKm-E5w"
      },
      "source": [
        "En este ejemplo, a == b, por lo que la primera condición no es verdadera, pero la condición elif es verdadera, por lo que imprimimos en la pantalla que \"a y b son iguales\"."
      ]
    },
    {
      "cell_type": "markdown",
      "metadata": {
        "id": "HHYBQ-jf-SsS"
      },
      "source": [
        "# **Else**\n",
        "\n",
        "La palabra clave else captura cualquier cosa que no sea detectada por las condiciones anteriores."
      ]
    },
    {
      "cell_type": "code",
      "metadata": {
        "id": "BtEOi0td-U6x"
      },
      "source": [
        "a = 200\n",
        "b = 33\n",
        "if b > a:\n",
        "  print(\"b is greater than a\")\n",
        "elif a == b:\n",
        "  print(\"a and b are equal\")\n",
        "else:\n",
        "  print(\"a is greater than b\")"
      ],
      "execution_count": null,
      "outputs": []
    },
    {
      "cell_type": "markdown",
      "metadata": {
        "id": "JfZIJ5z8-k2q"
      },
      "source": [
        "# **Short Hand If**\n",
        "\n",
        "If you have only one statement to execute, you can put it on the same line as the if statement."
      ]
    },
    {
      "cell_type": "code",
      "metadata": {
        "id": "v68mSQGB-nmR"
      },
      "source": [
        "if a > b: print(\"a is greater than b\")"
      ],
      "execution_count": null,
      "outputs": []
    },
    {
      "cell_type": "markdown",
      "metadata": {
        "id": "XwAvUDFT-qZP"
      },
      "source": [
        "# **Short Hand If ... Else**\n",
        "\n",
        "If you have only one statement to execute, one for if, and one for else, you can put it all on the same line:"
      ]
    },
    {
      "cell_type": "code",
      "metadata": {
        "id": "HrUw8s3y-tlq"
      },
      "source": [
        "a = 2\n",
        "b = 330\n",
        "print(\"A\") if a > b else print(\"B\")"
      ],
      "execution_count": null,
      "outputs": []
    }
  ]
}