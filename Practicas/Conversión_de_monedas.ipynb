{
  "nbformat": 4,
  "nbformat_minor": 0,
  "metadata": {
    "colab": {
      "name": "Conversión-de-monedas.ipynb",
      "provenance": []
    },
    "kernelspec": {
      "name": "python3",
      "display_name": "Python 3"
    }
  },
  "cells": [
    {
      "cell_type": "markdown",
      "metadata": {
        "id": "RB6Pt-FPQx6Q"
      },
      "source": [
        "# **Explicación:**\n",
        "1.-Crear un codigo que me pida una cantidad de dinero en pesos.\n",
        "\n",
        "2.-Introducir la cantidad.\n",
        "\n",
        "3.-Convertir esa cantidad a su equivalente en dolares.\n",
        "\n",
        "**1 Dolar = 19.98 pesos**"
      ]
    },
    {
      "cell_type": "code",
      "metadata": {
        "id": "sGJaOlThRHwK"
      },
      "source": [
        ""
      ],
      "execution_count": null,
      "outputs": []
    }
  ]
}