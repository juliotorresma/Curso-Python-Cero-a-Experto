{
  "nbformat": 4,
  "nbformat_minor": 0,
  "metadata": {
    "colab": {
      "name": "9.3-Bucle-For.ipynb",
      "provenance": [],
      "authorship_tag": "ABX9TyOmWnsTjMOTAHe/qcizIEyt",
      "include_colab_link": true
    },
    "kernelspec": {
      "name": "python3",
      "display_name": "Python 3"
    },
    "language_info": {
      "name": "python"
    }
  },
  "cells": [
    {
      "cell_type": "markdown",
      "metadata": {
        "id": "view-in-github",
        "colab_type": "text"
      },
      "source": [
        "<a href=\"https://colab.research.google.com/github/juliotorresma/Curso-Python-Cero-a-Experto/blob/main/9.3.-Bucle_For.ipynb\" target=\"_parent\"><img src=\"https://colab.research.google.com/assets/colab-badge.svg\" alt=\"Open In Colab\"/></a>"
      ]
    },
    {
      "cell_type": "markdown",
      "metadata": {
        "id": "_-9Nt391Vfij"
      },
      "source": [
        "# **Python para bucles**\n",
        "Un **bucle for** se usa para iterar sobre una secuencia (que es una lista, una tupla, un diccionario, un conjunto o una cadena).\n",
        "\n",
        "Esto es menos parecido a la palabra clave for en otros lenguajes de programación y funciona más como un método iterador que se encuentra en otros lenguajes de programación orientados a objetos.\n",
        "\n",
        "Con el bucle for podemos ejecutar un conjunto de declaraciones, una vez para cada elemento de una lista, tupla, conjunto, etc."
      ]
    },
    {
      "cell_type": "code",
      "metadata": {
        "colab": {
          "base_uri": "https://localhost:8080/"
        },
        "id": "DY62XqhQU2TE",
        "outputId": "fecef972-3d82-4a11-e80c-1fce5838adad"
      },
      "source": [
        "fruits = [\"apple\", \"banana\", \"cherry\"]\n",
        "for x in fruits:\n",
        "  print(x)"
      ],
      "execution_count": 1,
      "outputs": [
        {
          "output_type": "stream",
          "text": [
            "apple\n",
            "banana\n",
            "cherry\n"
          ],
          "name": "stdout"
        }
      ]
    },
    {
      "cell_type": "markdown",
      "metadata": {
        "id": "LSgLRGPhV2JH"
      },
      "source": [
        "## **Bucle a través de una cadena**\n",
        "Incluso las cadenas son objetos iterables, contienen una secuencia de caracteres:"
      ]
    },
    {
      "cell_type": "code",
      "metadata": {
        "id": "EyQZ4whHVz5V"
      },
      "source": [
        "for x in \"banana\":\n",
        "  print(x)"
      ],
      "execution_count": null,
      "outputs": []
    },
    {
      "cell_type": "markdown",
      "metadata": {
        "id": "nJIMs9nkV9eS"
      },
      "source": [
        "## **La declaración de break**\n",
        "Con la instrucción break podemos detener el ciclo antes de que haya pasado por todos los elementos:"
      ]
    },
    {
      "cell_type": "code",
      "metadata": {
        "id": "Ohk5oFmdWFpm"
      },
      "source": [
        "fruits = [\"apple\", \"banana\", \"cherry\"]\n",
        "for x in fruits:\n",
        "  print(x) \n",
        "  if x == \"banana\":\n",
        "    break"
      ],
      "execution_count": null,
      "outputs": []
    },
    {
      "cell_type": "markdown",
      "metadata": {
        "id": "oApfWx0xWIYP"
      },
      "source": [
        "¿Qué hace despues de romper?\n"
      ]
    },
    {
      "cell_type": "code",
      "metadata": {
        "id": "1lyXcQ6_WMjO"
      },
      "source": [
        "fruits = [\"apple\", \"banana\", \"cherry\"]\n",
        "for x in fruits:\n",
        "  if x == \"banana\":\n",
        "    break\n",
        "  print(x)"
      ],
      "execution_count": null,
      "outputs": []
    },
    {
      "cell_type": "markdown",
      "metadata": {
        "id": "6DZcBcCiXA4l"
      },
      "source": [
        "## **La función range ()**\n",
        "Para **recorrer un conjunto de código un número específico de veces**, podemos usar la función range ().\n",
        "\n",
        "La función range () devuelve una secuencia de números, comenzando desde 0 de forma predeterminada, se incrementa en 1 (de forma predeterminada) y termina en un número especificado."
      ]
    },
    {
      "cell_type": "code",
      "metadata": {
        "id": "4H8-oz2JXKrg"
      },
      "source": [
        "for x in range(6):\n",
        "  print(x)"
      ],
      "execution_count": null,
      "outputs": []
    }
  ]
}