{
  "nbformat": 4,
  "nbformat_minor": 0,
  "metadata": {
    "colab": {
      "name": "Ejercicios-Python-Basico-Condicionales.ipynb",
      "provenance": [],
      "collapsed_sections": [],
      "include_colab_link": true
    },
    "kernelspec": {
      "name": "python3",
      "display_name": "Python 3"
    },
    "language_info": {
      "name": "python"
    }
  },
  "cells": [
    {
      "cell_type": "markdown",
      "metadata": {
        "id": "view-in-github",
        "colab_type": "text"
      },
      "source": [
        "<a href=\"https://colab.research.google.com/github/juliotorresma/Curso-Python-Cero-a-Experto/blob/main/Ejercicios_Python_Basico_Condicionales.ipynb\" target=\"_parent\"><img src=\"https://colab.research.google.com/assets/colab-badge.svg\" alt=\"Open In Colab\"/></a>"
      ]
    },
    {
      "cell_type": "markdown",
      "metadata": {
        "id": "6TB3zBgZqXcv"
      },
      "source": [
        "# **Ejercicio 1**\n",
        "\n",
        "Escribir un programa que pregunte al usuario su edad y muestre por pantalla si es mayor de edad o no.\n",
        "\n",
        "**Ejemplo**:\n",
        "\n",
        "-> Introduzca edad:\n",
        "\n",
        "<- 20\n",
        "\n",
        "-> El usuario es mayor de edad\n",
        "\n"
      ]
    },
    {
      "cell_type": "code",
      "metadata": {
        "id": "HktZ1gG_pZUc",
        "colab": {
          "base_uri": "https://localhost:8080/"
        },
        "outputId": "646f12fb-6d3d-47b1-9093-92fa79cd974c"
      },
      "source": [
        "'''\n",
        "Estrategia:\n",
        "1.- Recibir un numero por la terminal\n",
        "2.- Revisar si el numero es mayor a 18\n",
        "3.- Imprimir \"Mayor de edad\" si es mayor a 18, y si no imprimir \"No es mayor de edad\".\n",
        "'''\n",
        "edad = int(input(\"Introduzca su edad: \"))\n",
        "if edad > 18:\n",
        "  print(\"Mayor de edad\")\n",
        "else: \n",
        "  print(\"No es mayor de edad\")"
      ],
      "execution_count": null,
      "outputs": [
        {
          "output_type": "stream",
          "text": [
            "Introduzca su edad: 16\n",
            "No es mayor de edad\n"
          ],
          "name": "stdout"
        }
      ]
    },
    {
      "cell_type": "markdown",
      "metadata": {
        "id": "VZKK3c-fq9x_"
      },
      "source": [
        "# **Ejercicio 2**\n",
        "\n",
        "Escribir un programa que almacene la cadena de caracteres contraseña en una variable, pregunte al usuario por la contraseña e imprima por pantalla si la contraseña introducida por el usuario coincide con la guardada en la variable sin tener en cuenta mayúsculas y minúsculas.\n",
        "\n",
        "**Ejemplo:**\n",
        "\n",
        "-> Introduzca una contraseña:\n",
        "\n",
        "<- julio270700\n",
        "\n",
        "-> Su contraseña no coincide con la del sistema."
      ]
    },
    {
      "cell_type": "code",
      "metadata": {
        "id": "tN_HuNTNtNIU",
        "colab": {
          "base_uri": "https://localhost:8080/"
        },
        "outputId": "c92d985d-7189-4260-8973-d986a453d356"
      },
      "source": [
        "'''\n",
        "1.- Crear una variable contraseña y guardarla en el sistema\n",
        "2.- Preguntar al usuario que intruduzca una contraseña nueva\n",
        "3.- Comparar si son iguales la nueva y la anterior\n",
        "4.- Si son iguales imprimir \"su contraseña coincide\" si no son iguales imprimir \"su contraseña no coincide\"\n",
        "'''\n",
        "\n",
        "contraseña = \"fernanda222\"\n",
        "contraseña_nueva = input(\"Introduzca contraseña: \")\n",
        "if contraseña == contraseña_nueva :\n",
        "  print(\"Su contraseña coincide\")\n",
        "else :\n",
        "  print(\"Su contraseña no coincide\")\n"
      ],
      "execution_count": null,
      "outputs": [
        {
          "output_type": "stream",
          "text": [
            "Introduzca contraseña: julio2\n",
            "Su contraseña no coincide\n"
          ],
          "name": "stdout"
        }
      ]
    },
    {
      "cell_type": "markdown",
      "metadata": {
        "id": "s98I96vRto6B"
      },
      "source": [
        "# **Ejercicio 3**\n",
        "\n",
        "Escribir un programa que pida al usuario dos números y muestre por pantalla su división. Si el divisor es cero el programa debe mostrar un error.\n",
        "\n",
        "**Ejemplo:**\n",
        "\n",
        "-> Introduza el dividendo:\n",
        "\n",
        "<- 5\n",
        "\n",
        "-> Introduzca el divisor:\n",
        "\n",
        "<- 0\n",
        "\n",
        "-> Error, no se puede realizar una division entre cero."
      ]
    },
    {
      "cell_type": "code",
      "metadata": {
        "id": "KAdE1WB9uXRo",
        "colab": {
          "base_uri": "https://localhost:8080/"
        },
        "outputId": "689edc71-ee01-45bc-c3b5-c3af0b2beeb0"
      },
      "source": [
        "'''\n",
        "1.Pedir el dividendo\n",
        "2.Pedir el divisor \n",
        "3.Realizar division\n",
        "4.Si el divisor es 0 imprimir \"error, no se puede realizar division entre cero\"\n",
        "'''\n",
        "dividendo = int(input(\"introduzca dividendo\"))\n",
        "divisor = int(input(\"introduzca divisor\"))\n",
        "\n",
        "if divisor == 0:\n",
        "  print(\"el divisor no puede ser cero\")\n",
        "\n",
        "else: \n",
        "  print(dividendo/divisor)\n",
        "\n",
        "\n"
      ],
      "execution_count": null,
      "outputs": [
        {
          "output_type": "stream",
          "text": [
            "introduzca dividendo8\n",
            "introduzca divisor10\n",
            "0.8\n"
          ],
          "name": "stdout"
        }
      ]
    },
    {
      "cell_type": "markdown",
      "metadata": {
        "id": "g30WPyJFufcQ"
      },
      "source": [
        "# **Ejercicio 4**\n",
        "\n",
        "Escribir un programa que pida al usuario un número entero y muestre por pantalla si es par o impar.\n",
        "\n",
        "**Ejemplo:**\n",
        "\n",
        "-> Introduzca un numero:\n",
        "\n",
        "<- 2\n",
        "\n",
        "-> Su numero es par."
      ]
    },
    {
      "cell_type": "code",
      "metadata": {
        "id": "x-wxKuPOvBKz"
      },
      "source": [
        ""
      ],
      "execution_count": null,
      "outputs": []
    },
    {
      "cell_type": "markdown",
      "metadata": {
        "id": "FBYmsopyvBu9"
      },
      "source": [
        "# **Ejercicio 5**\n",
        "\n",
        "Para tributar un determinado impuesto se debe ser mayor de 16 años y tener unos ingresos iguales o superiores a 1000 € mensuales. Escribir un programa que pregunte al usuario su edad y sus ingresos mensuales y muestre por pantalla si el usuario tiene que tributar o no.\n",
        "\n",
        "-> Introduzca su edad:\n",
        "\n",
        "<- 30\n",
        "\n",
        "-> Introduzca sus ingresos mensuales:\n",
        "\n",
        "<- 1020\n",
        "\n",
        "-> Se debe tributar."
      ]
    },
    {
      "cell_type": "code",
      "metadata": {
        "colab": {
          "base_uri": "https://localhost:8080/"
        },
        "id": "EctDwY5XfYGy",
        "outputId": "a2abac32-4e6e-450e-c5df-4a7e607a54b6"
      },
      "source": [
        "\n",
        "''' \n",
        "1-Crear 2 variables Edad e Ingreso \n",
        "2-Introducir la edad y el ingreso mensual \n",
        "3-Comparar si las variables son mayores a las que se nos pide \n",
        "4-Imprimir si tiene que tributar o no \n",
        "'''\n",
        "Edad = int(input(\"Introduzca su edad: \"))\n",
        "Ingreso = float(input(\"Introduzca su ingreso mensual: \"))\n",
        "print(\"Tienes que tributar\") if Edad > 16 and Ingreso >= 1000 else print (\"no tributa\")\n"
      ],
      "execution_count": null,
      "outputs": [
        {
          "output_type": "stream",
          "text": [
            "Introduzca su edad: 17\n",
            "Introduzca su ingreso mensual: 920\n",
            "no tributa\n"
          ],
          "name": "stdout"
        }
      ]
    }
  ]
}