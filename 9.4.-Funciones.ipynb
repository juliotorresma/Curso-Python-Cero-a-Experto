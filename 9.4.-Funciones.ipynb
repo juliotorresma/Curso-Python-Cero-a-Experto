{
  "nbformat": 4,
  "nbformat_minor": 0,
  "metadata": {
    "colab": {
      "name": "9.4.-Funciones.ipynb",
      "provenance": [],
      "authorship_tag": "ABX9TyO+s0SlYNqRi2Y7jUCGNl6/",
      "include_colab_link": true
    },
    "kernelspec": {
      "name": "python3",
      "display_name": "Python 3"
    },
    "language_info": {
      "name": "python"
    }
  },
  "cells": [
    {
      "cell_type": "markdown",
      "metadata": {
        "id": "view-in-github",
        "colab_type": "text"
      },
      "source": [
        "<a href=\"https://colab.research.google.com/github/juliotorresma/Curso-Python-Cero-a-Experto/blob/main/9.4.-Funciones.ipynb\" target=\"_parent\"><img src=\"https://colab.research.google.com/assets/colab-badge.svg\" alt=\"Open In Colab\"/></a>"
      ]
    },
    {
      "cell_type": "markdown",
      "metadata": {
        "id": "T7u-yel1Yh8F"
      },
      "source": [
        "# **Funciones en Python**\n",
        "Una función **es un bloque de código que solo se ejecuta cuando se llama.**\n",
        "\n",
        "Puede pasar datos, conocidos como parámetros, a una función.\n",
        "\n",
        "Una función puede devolver datos como resultado."
      ]
    },
    {
      "cell_type": "markdown",
      "metadata": {
        "id": "FNE99wmcYzIK"
      },
      "source": [
        "**Crear una función**\n",
        "\n",
        "En Python, una función se define usando la palabra clave def:"
      ]
    },
    {
      "cell_type": "code",
      "metadata": {
        "id": "eYOB7ms5Yhfz"
      },
      "source": [
        "def mi_funcion():\n",
        "\n",
        "  print(\"Hola! ¿Me llamaste?\")"
      ],
      "execution_count": null,
      "outputs": []
    },
    {
      "cell_type": "markdown",
      "metadata": {
        "id": "JrvG0BEDY-d9"
      },
      "source": [
        "## **Llamar a una función**\n",
        "Para llamar a una función, use el nombre de la función seguido de paréntesis:"
      ]
    },
    {
      "cell_type": "code",
      "metadata": {
        "id": "TU1XhKlhZC8J"
      },
      "source": [
        "def mi_funcion():\n",
        "\n",
        "  print(\"Hola! ¿Me llamaste?\")\n",
        "\n",
        "mi_funcion()"
      ],
      "execution_count": null,
      "outputs": []
    },
    {
      "cell_type": "markdown",
      "metadata": {
        "id": "Ppe8ceJaZRIo"
      },
      "source": [
        "## **Argumentos**\n",
        "La información se puede pasar a funciones como argumentos.\n",
        "\n",
        "Los **argumentos se especifican después del nombre de la función**, entre paréntesis. Puede agregar tantos argumentos como desee, solo sepárelos con una coma.\n",
        "\n",
        "El siguiente ejemplo tiene una función con un argumento (fname). Cuando se llama a la función, pasamos un nombre, que se usa dentro de la función para imprimir el nombre completo:"
      ]
    },
    {
      "cell_type": "code",
      "metadata": {
        "id": "yvrBOkoRZWJM"
      },
      "source": [
        "def my_function(fname):\n",
        "  print(fname + \" Refsnes\")\n",
        "\n",
        "my_function(\"Emil\")\n",
        "my_function(\"Tobias\")\n",
        "my_function(\"Linus\")"
      ],
      "execution_count": null,
      "outputs": []
    },
    {
      "cell_type": "markdown",
      "metadata": {
        "id": "MbEiWUdiZZhy"
      },
      "source": [
        "## **Número de argumentos**\n",
        "De forma predeterminada, se debe llamar a una función con el **número correcto de argumentos**. \n",
        "\n",
        "Lo que significa que **si su función espera 2 argumentos, debe llamar a la función con 2 argumentos, ni más ni menos**."
      ]
    },
    {
      "cell_type": "code",
      "metadata": {
        "id": "dECrFVtOZZBv"
      },
      "source": [
        "def my_function(fname, lname):\n",
        "  print(fname + \" \" + lname)\n",
        "\n",
        "my_function(\"Emil\", \"Refsnes\")"
      ],
      "execution_count": null,
      "outputs": []
    },
    {
      "cell_type": "markdown",
      "metadata": {
        "id": "82xFTvuOa5ZA"
      },
      "source": [
        "## **Valores devueltos**\n",
        "Para permitir que una función devuelva un valor, use la declaración de retorno:"
      ]
    },
    {
      "cell_type": "code",
      "metadata": {
        "id": "ax9i85gGbFXx"
      },
      "source": [
        "def my_function(x):\n",
        "  return 5 * x\n",
        "\n",
        "print(my_function(3))\n",
        "print(my_function(5))\n",
        "print(my_function(9))"
      ],
      "execution_count": null,
      "outputs": []
    },
    {
      "cell_type": "markdown",
      "metadata": {
        "id": "lfaoxk19bItd"
      },
      "source": [
        "## **La declaración del pase**\n",
        "**Las definiciones de función no pueden estar vacías**, pero si por alguna razón tiene una definición de función sin contenido, coloque la declaración de paso para evitar errores."
      ]
    },
    {
      "cell_type": "code",
      "metadata": {
        "id": "WJYNbVIqbRjM"
      },
      "source": [
        "def myfunction():\n",
        "  pass"
      ],
      "execution_count": null,
      "outputs": []
    },
    {
      "cell_type": "markdown",
      "metadata": {
        "id": "e6Cl11mPbVRe"
      },
      "source": [
        ""
      ]
    }
  ]
}