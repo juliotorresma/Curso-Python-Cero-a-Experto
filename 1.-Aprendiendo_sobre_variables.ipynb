{
  "nbformat": 4,
  "nbformat_minor": 0,
  "metadata": {
    "colab": {
      "name": "Aprendiendo-sobre-variables.ipynb",
      "provenance": [],
      "authorship_tag": "ABX9TyOg2B6ibb6sMDvA5lpQQ4a7",
      "include_colab_link": true
    },
    "kernelspec": {
      "name": "python3",
      "display_name": "Python 3"
    },
    "accelerator": "GPU"
  },
  "cells": [
    {
      "cell_type": "markdown",
      "metadata": {
        "id": "view-in-github",
        "colab_type": "text"
      },
      "source": [
        "<a href=\"https://colab.research.google.com/github/juliotorresma/Curso-Python-Cero-a-Experto/blob/main/Aprendiendo_sobre_variables.ipynb\" target=\"_parent\"><img src=\"https://colab.research.google.com/assets/colab-badge.svg\" alt=\"Open In Colab\"/></a>"
      ]
    },
    {
      "cell_type": "markdown",
      "metadata": {
        "id": "gZGvQvS3QpM4"
      },
      "source": [
        "# **Creando nuestras primeras variables**\n",
        "Dentro de mi caja numero voy a guardar el valor 3."
      ]
    },
    {
      "cell_type": "code",
      "metadata": {
        "id": "acs8y-cXQtA9"
      },
      "source": [
        "numero = 3"
      ],
      "execution_count": null,
      "outputs": []
    },
    {
      "cell_type": "code",
      "metadata": {
        "id": "MNVWbgqvQ3wG"
      },
      "source": [
        "print(numero)"
      ],
      "execution_count": null,
      "outputs": []
    },
    {
      "cell_type": "markdown",
      "metadata": {
        "id": "LiHrd8jFQ6FQ"
      },
      "source": [
        "# **Suma de variables**"
      ]
    },
    {
      "cell_type": "code",
      "metadata": {
        "id": "BQ1Zxpa9RBwz"
      },
      "source": [
        "numero1 = 3\n",
        "numero2 = 5\n",
        "\n",
        "print (numero1 + numero2)\n"
      ],
      "execution_count": null,
      "outputs": []
    },
    {
      "cell_type": "markdown",
      "metadata": {
        "id": "5rlGxpjVRMVL"
      },
      "source": [
        "# **Sustituir valores dentro de mis variables**"
      ]
    },
    {
      "cell_type": "code",
      "metadata": {
        "id": "yTJxsclsRPUD"
      },
      "source": [
        "print(numero1)\n",
        "numero1 = 10\n",
        "print(numero1)"
      ],
      "execution_count": null,
      "outputs": []
    },
    {
      "cell_type": "markdown",
      "metadata": {
        "id": "f_Hf1SkzRZMF"
      },
      "source": [
        "# **Crear variable con suma de variables**"
      ]
    },
    {
      "cell_type": "code",
      "metadata": {
        "id": "wnlc5qtHReUE"
      },
      "source": [
        "variable_suma = numero1 + numero2\n",
        "print(variable_suma)\n",
        "#Ver reglas"
      ],
      "execution_count": null,
      "outputs": []
    }
  ]
}
