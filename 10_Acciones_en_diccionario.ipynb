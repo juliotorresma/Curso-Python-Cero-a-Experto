{
  "nbformat": 4,
  "nbformat_minor": 0,
  "metadata": {
    "colab": {
      "name": "10.-Acciones en diccionario.ipynb",
      "provenance": [],
      "authorship_tag": "ABX9TyPwdYPk3+mEtJ4Y9cXc/1AC",
      "include_colab_link": true
    },
    "kernelspec": {
      "name": "python3",
      "display_name": "Python 3"
    }
  },
  "cells": [
    {
      "cell_type": "markdown",
      "metadata": {
        "id": "view-in-github",
        "colab_type": "text"
      },
      "source": [
        "<a href=\"https://colab.research.google.com/github/juliotorresma/Curso-Python-Cero-a-Experto/blob/main/10_Acciones_en_diccionario.ipynb\" target=\"_parent\"><img src=\"https://colab.research.google.com/assets/colab-badge.svg\" alt=\"Open In Colab\"/></a>"
      ]
    },
    {
      "cell_type": "markdown",
      "metadata": {
        "id": "xsrwJEDGf-z2"
      },
      "source": [
        "# **Acceder a elementos**\n",
        "Puede acceder a los elementos de un diccionario haciendo referencia a su nombre clave, entre corchetes:"
      ]
    },
    {
      "cell_type": "code",
      "metadata": {
        "colab": {
          "base_uri": "https://localhost:8080/"
        },
        "id": "0TB53LlBdZux",
        "outputId": "bd74d393-afe0-4668-ff67-c052796477c0"
      },
      "source": [
        "thisdict = {\n",
        "  \"brand\": \"Ford\",\n",
        "  \"model\": \"Mustang\",\n",
        "  \"year\": 1964\n",
        "}\n",
        "x = thisdict[\"model\"]\n",
        "\n",
        "print(x)"
      ],
      "execution_count": 3,
      "outputs": [
        {
          "output_type": "stream",
          "text": [
            "Mustang\n"
          ],
          "name": "stdout"
        }
      ]
    },
    {
      "cell_type": "markdown",
      "metadata": {
        "id": "kjvqKXiwr0c6"
      },
      "source": [
        "**También hay un método llamado get () que le dará el mismo resultado:**"
      ]
    },
    {
      "cell_type": "code",
      "metadata": {
        "id": "ZeoX1woJr8PR"
      },
      "source": [
        "x = thisdict.get(\"model\")"
      ],
      "execution_count": 2,
      "outputs": []
    },
    {
      "cell_type": "markdown",
      "metadata": {
        "id": "5g4McGRxwpTT"
      },
      "source": [
        "## **Obtener llaves**\n",
        "El método keys () devolverá una lista de todas las claves del diccionario."
      ]
    },
    {
      "cell_type": "code",
      "metadata": {
        "colab": {
          "base_uri": "https://localhost:8080/"
        },
        "id": "IttzOeptwq8d",
        "outputId": "6451d798-540d-4815-fdf4-4aa80228e43c"
      },
      "source": [
        "x = thisdict.keys()\n",
        "\n",
        "x"
      ],
      "execution_count": 4,
      "outputs": [
        {
          "output_type": "execute_result",
          "data": {
            "text/plain": [
              "dict_keys(['brand', 'model', 'year'])"
            ]
          },
          "metadata": {
            "tags": []
          },
          "execution_count": 4
        }
      ]
    },
    {
      "cell_type": "markdown",
      "metadata": {
        "id": "H7MFhmINi04g"
      },
      "source": [
        "## **Obtener valores**\n",
        "El método values ​​() devolverá una lista de todos los valores en el diccionario."
      ]
    },
    {
      "cell_type": "code",
      "metadata": {
        "colab": {
          "base_uri": "https://localhost:8080/"
        },
        "id": "V3LtdK5Ei4Mu",
        "outputId": "e93428f0-fbaa-410c-dfe5-e62ec368b977"
      },
      "source": [
        "x = thisdict.values()\n",
        "\n",
        "x"
      ],
      "execution_count": 5,
      "outputs": [
        {
          "output_type": "execute_result",
          "data": {
            "text/plain": [
              "dict_values(['Ford', 'Mustang', 1964])"
            ]
          },
          "metadata": {
            "tags": []
          },
          "execution_count": 5
        }
      ]
    },
    {
      "cell_type": "markdown",
      "metadata": {
        "id": "fNq84fIGjFPg"
      },
      "source": [
        "## **Cambiar valores**\n",
        "Puede cambiar el valor de un elemento específico haciendo referencia a su nombre de clave:"
      ]
    },
    {
      "cell_type": "code",
      "metadata": {
        "colab": {
          "base_uri": "https://localhost:8080/"
        },
        "id": "uPQdyLB0jHBH",
        "outputId": "6a5b7452-67ba-47a5-df29-96499f7fa8a4"
      },
      "source": [
        "thisdict = {\n",
        "  \"brand\": \"Ford\",\n",
        "  \"model\": \"Mustang\",\n",
        "  \"year\": 1964\n",
        "}\n",
        "\n",
        "thisdict[\"year\"] = 2018\n",
        "\n",
        "thisdict"
      ],
      "execution_count": 6,
      "outputs": [
        {
          "output_type": "execute_result",
          "data": {
            "text/plain": [
              "{'brand': 'Ford', 'model': 'Mustang', 'year': 2018}"
            ]
          },
          "metadata": {
            "tags": []
          },
          "execution_count": 6
        }
      ]
    },
    {
      "cell_type": "markdown",
      "metadata": {
        "id": "-LDdy6MXjNiN"
      },
      "source": [
        "## **Agregar elementos**\n",
        "La adición de un elemento al diccionario se realiza utilizando una nueva clave de índice y asignándole un valor:"
      ]
    },
    {
      "cell_type": "code",
      "metadata": {
        "colab": {
          "base_uri": "https://localhost:8080/"
        },
        "id": "WAtX-e4AjWmi",
        "outputId": "e1fade31-6e50-46fc-87cd-e52dfe58c8f7"
      },
      "source": [
        "thisdict = {\n",
        "  \"brand\": \"Ford\",\n",
        "  \"model\": \"Mustang\",\n",
        "  \"year\": 1964\n",
        "}\n",
        "\n",
        "#Aqui agregamos la nueva llave con su respectivo valor.\n",
        "thisdict[\"color\"] = \"red\"\n",
        "\n",
        "print(thisdict)"
      ],
      "execution_count": 7,
      "outputs": [
        {
          "output_type": "stream",
          "text": [
            "{'brand': 'Ford', 'model': 'Mustang', 'year': 1964, 'color': 'red'}\n"
          ],
          "name": "stdout"
        }
      ]
    },
    {
      "cell_type": "markdown",
      "metadata": {
        "id": "pJhz9aCOjt3x"
      },
      "source": [
        "## **Eliminar elementos**\n",
        "Existen varios métodos para eliminar elementos de un diccionario:"
      ]
    },
    {
      "cell_type": "code",
      "metadata": {
        "colab": {
          "base_uri": "https://localhost:8080/"
        },
        "id": "Xl9wVHfrj0u5",
        "outputId": "f5277c7f-fdde-46c4-9f18-aac9d99c1c1c"
      },
      "source": [
        "thisdict = {\n",
        "  \"brand\": \"Ford\",\n",
        "  \"model\": \"Mustang\",\n",
        "  \"year\": 1964\n",
        "}\n",
        "\n",
        "thisdict.pop(\"model\")\n",
        "\n",
        "print(thisdict)"
      ],
      "execution_count": 8,
      "outputs": [
        {
          "output_type": "stream",
          "text": [
            "{'brand': 'Ford', 'year': 1964}\n"
          ],
          "name": "stdout"
        }
      ]
    }
  ]
}