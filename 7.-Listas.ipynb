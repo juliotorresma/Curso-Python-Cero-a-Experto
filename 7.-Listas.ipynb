{
  "nbformat": 4,
  "nbformat_minor": 0,
  "metadata": {
    "colab": {
      "name": "7.- Listas.ipynb",
      "provenance": [],
      "authorship_tag": "ABX9TyPBGmBz1n6Y22voZbcIWW7r",
      "include_colab_link": true
    },
    "kernelspec": {
      "name": "python3",
      "display_name": "Python 3"
    }
  },
  "cells": [
    {
      "cell_type": "markdown",
      "metadata": {
        "id": "view-in-github",
        "colab_type": "text"
      },
      "source": [
        "<a href=\"https://colab.research.google.com/github/juliotorresma/Curso-Python-Cero-a-Experto/blob/main/7.-Listas.ipynb\" target=\"_parent\"><img src=\"https://colab.research.google.com/assets/colab-badge.svg\" alt=\"Open In Colab\"/></a>"
      ]
    },
    {
      "cell_type": "markdown",
      "metadata": {
        "id": "sKOspG-ATY5C"
      },
      "source": [
        "# **LISTAS EN PYTHON**\n",
        "\n",
        "Las listas se utilizan para almacenar varios elementos en una sola variable."
      ]
    },
    {
      "cell_type": "code",
      "metadata": {
        "colab": {
          "base_uri": "https://localhost:8080/"
        },
        "id": "IdN0gE5HTYSA",
        "outputId": "99bf7a6e-6e5c-44a3-b26b-9777dad93298"
      },
      "source": [
        "lista = [\"manzana\", \"banana\", \"cereza\"]\n",
        "\n",
        "lista"
      ],
      "execution_count": 16,
      "outputs": [
        {
          "output_type": "execute_result",
          "data": {
            "text/plain": [
              "['manzana', 'banana', 'cereza']"
            ]
          },
          "metadata": {
            "tags": []
          },
          "execution_count": 16
        }
      ]
    },
    {
      "cell_type": "markdown",
      "metadata": {
        "id": "qDhQaOsUfsgw"
      },
      "source": [
        "## **Permite elementos repetidos dentro de la lista.**"
      ]
    },
    {
      "cell_type": "code",
      "metadata": {
        "colab": {
          "base_uri": "https://localhost:8080/"
        },
        "id": "WEBW-KcafsUK",
        "outputId": "8d812f08-b739-4198-ee21-b0cb9a698d6b"
      },
      "source": [
        "lista.append(\"manzana\")\n",
        "\n",
        "lista"
      ],
      "execution_count": 18,
      "outputs": [
        {
          "output_type": "execute_result",
          "data": {
            "text/plain": [
              "['manzana', 'banana', 'cereza', 'manzana']"
            ]
          },
          "metadata": {
            "tags": []
          },
          "execution_count": 18
        }
      ]
    },
    {
      "cell_type": "markdown",
      "metadata": {
        "id": "f2qIAj8igKH6"
      },
      "source": [
        "## **Imprimir tamaño de la lista.**"
      ]
    },
    {
      "cell_type": "code",
      "metadata": {
        "colab": {
          "base_uri": "https://localhost:8080/"
        },
        "id": "7vba7zjagSYF",
        "outputId": "a64f1c11-16ea-4ca1-a8aa-31c148515ab4"
      },
      "source": [
        "len(lista)"
      ],
      "execution_count": 20,
      "outputs": [
        {
          "output_type": "execute_result",
          "data": {
            "text/plain": [
              "4"
            ]
          },
          "metadata": {
            "tags": []
          },
          "execution_count": 20
        }
      ]
    },
    {
      "cell_type": "markdown",
      "metadata": {
        "id": "jJ_3-wPNjI7E"
      },
      "source": [
        "## **Tipos de datos que se pueden guardar dentro de una lista**\n",
        "\n",
        "(Todos)"
      ]
    },
    {
      "cell_type": "code",
      "metadata": {
        "id": "elR-sDOUjZGz"
      },
      "source": [
        "lista1 = [\"apple\", \"banana\", \"cherry\"]\n",
        "lista2 = [1, 5, 7, 9, 3]\n",
        "lista3 = [True, False, False]"
      ],
      "execution_count": 21,
      "outputs": []
    }
  ]
}