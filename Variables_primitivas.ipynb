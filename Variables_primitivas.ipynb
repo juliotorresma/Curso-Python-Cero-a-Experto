{
  "nbformat": 4,
  "nbformat_minor": 0,
  "metadata": {
    "colab": {
      "name": "Variables-primitivas.ipynb",
      "provenance": [],
      "authorship_tag": "ABX9TyNqhUrZDqD1Nw83KjN4cNZH",
      "include_colab_link": true
    },
    "kernelspec": {
      "name": "python3",
      "display_name": "Python 3"
    }
  },
  "cells": [
    {
      "cell_type": "markdown",
      "metadata": {
        "id": "view-in-github",
        "colab_type": "text"
      },
      "source": [
        "<a href=\"https://colab.research.google.com/github/juliotorresma/Curso-Python-Cero-a-Experto/blob/main/Variables_primitivas.ipynb\" target=\"_parent\"><img src=\"https://colab.research.google.com/assets/colab-badge.svg\" alt=\"Open In Colab\"/></a>"
      ]
    },
    {
      "cell_type": "markdown",
      "metadata": {
        "id": "Dl8pUOFIU7ef"
      },
      "source": [
        "# **Tipos de variable primitivas**"
      ]
    },
    {
      "cell_type": "markdown",
      "metadata": {
        "id": "1OA4wxXWV49i"
      },
      "source": [
        "String: Cadena de caracteres"
      ]
    },
    {
      "cell_type": "code",
      "metadata": {
        "id": "RH4RlxIoSG3i"
      },
      "source": [
        "nombre = \"Facundo\"\n",
        "print(nombre)"
      ],
      "execution_count": null,
      "outputs": []
    },
    {
      "cell_type": "markdown",
      "metadata": {
        "id": "GOEcXNZ4WBG0"
      },
      "source": [
        "Suma de Strings"
      ]
    },
    {
      "cell_type": "code",
      "metadata": {
        "id": "bI0FYuCCVABQ"
      },
      "source": [
        "nombre1 = \"Julio\"\n",
        "nombre2 = \"Torres\"\n",
        "print(nombre1+nombre2)"
      ],
      "execution_count": null,
      "outputs": []
    },
    {
      "cell_type": "markdown",
      "metadata": {
        "id": "tHkDueZTXaV6"
      },
      "source": [
        "Multiplicacion de strings"
      ]
    },
    {
      "cell_type": "code",
      "metadata": {
        "colab": {
          "base_uri": "https://localhost:8080/"
        },
        "id": "zIhNLC2cXYs9",
        "outputId": "378eca2d-2988-466f-a96f-528f33b64930"
      },
      "source": [
        "print(nombre1 * 3)"
      ],
      "execution_count": null,
      "outputs": [
        {
          "output_type": "stream",
          "text": [
            "JulioJulioJulio\n"
          ],
          "name": "stdout"
        }
      ]
    },
    {
      "cell_type": "markdown",
      "metadata": {
        "id": "3RfckH6xXlyn"
      },
      "source": [
        "# **Variable tipo Float**"
      ]
    },
    {
      "cell_type": "code",
      "metadata": {
        "id": "pc-LZuRAXlT2"
      },
      "source": [
        "numero_decimal = 3.4\n",
        "print(numero_decimal)"
      ],
      "execution_count": null,
      "outputs": []
    },
    {
      "cell_type": "markdown",
      "metadata": {
        "id": "EoXxRwPUYFpb"
      },
      "source": [
        "# **Varible tipo booleano**"
      ]
    },
    {
      "cell_type": "code",
      "metadata": {
        "id": "KX486l3AYD9L"
      },
      "source": [
        "es_estudiante = True\n",
        "no_es_estudiante = False\n",
        "print(es_estudiante)"
      ],
      "execution_count": null,
      "outputs": []
    }
  ]
}