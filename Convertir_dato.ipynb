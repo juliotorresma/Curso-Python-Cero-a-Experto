{
  "nbformat": 4,
  "nbformat_minor": 0,
  "metadata": {
    "colab": {
      "name": "Convertir-dato.ipynb",
      "provenance": [],
      "authorship_tag": "ABX9TyP7WgNYDBVt+Lhr8LF8EaWg",
      "include_colab_link": true
    },
    "kernelspec": {
      "name": "python3",
      "display_name": "Python 3"
    }
  },
  "cells": [
    {
      "cell_type": "markdown",
      "metadata": {
        "id": "view-in-github",
        "colab_type": "text"
      },
      "source": [
        "<a href=\"https://colab.research.google.com/github/juliotorresma/Curso-Python-Cero-a-Experto/blob/main/Convertir_dato.ipynb\" target=\"_parent\"><img src=\"https://colab.research.google.com/assets/colab-badge.svg\" alt=\"Open In Colab\"/></a>"
      ]
    },
    {
      "cell_type": "markdown",
      "metadata": {
        "id": "saOgj55ctRLE"
      },
      "source": [
        "# **Recibir un valor cualquiera sin especificar**\n",
        "Variable a llenar, despues input con frase a desplegar."
      ]
    },
    {
      "cell_type": "code",
      "metadata": {
        "id": "UYurKQapdNH_"
      },
      "source": [
        "numero1 = input(\"Ingresa el numero 1: \")\n",
        "numero2 = input(\"Ingresa el numero 2: \")"
      ],
      "execution_count": null,
      "outputs": []
    },
    {
      "cell_type": "markdown",
      "metadata": {
        "id": "aEZLvROluvKP"
      },
      "source": [
        "¿Qué es lo que hay dentro de mi variable? \n",
        "¿Numero / Texto?"
      ]
    },
    {
      "cell_type": "code",
      "metadata": {
        "id": "mvlebmywdTy7"
      },
      "source": [
        "numero1"
      ],
      "execution_count": null,
      "outputs": []
    },
    {
      "cell_type": "markdown",
      "metadata": {
        "id": "803qlWyevQW9"
      },
      "source": [
        "**Concatenación**"
      ]
    },
    {
      "cell_type": "code",
      "metadata": {
        "id": "7RccZrXAu8KE"
      },
      "source": [
        "print(numero1 + numero2)"
      ],
      "execution_count": null,
      "outputs": []
    },
    {
      "cell_type": "markdown",
      "metadata": {
        "id": "hTYyxJbCvJr_"
      },
      "source": [
        "# **Casteo**\n",
        "Convertir un tipo de variable a otra.\n",
        "\n",
        "**Ejemplo 1**"
      ]
    },
    {
      "cell_type": "code",
      "metadata": {
        "id": "FurPj0biv_er"
      },
      "source": [
        "print(type(numero1))\n",
        "numero1 = int(numero1)\n",
        "print(type(numero1))"
      ],
      "execution_count": null,
      "outputs": []
    },
    {
      "cell_type": "markdown",
      "metadata": {
        "id": "ZY8kAcvS2YYH"
      },
      "source": [
        "**Ejemplo 2**"
      ]
    },
    {
      "cell_type": "code",
      "metadata": {
        "id": "1h7JjOec12gg"
      },
      "source": [
        "numero_decimal = 4.5\n",
        "int(numero_decimal)"
      ],
      "execution_count": null,
      "outputs": []
    },
    {
      "cell_type": "markdown",
      "metadata": {
        "id": "0qblpOws2eId"
      },
      "source": [
        "**Ejemplo 3**"
      ]
    },
    {
      "cell_type": "code",
      "metadata": {
        "id": "J_Gtqphd2Imr"
      },
      "source": [
        "numero_decimal = 4.3\n",
        "str(numero_decimal)"
      ],
      "execution_count": null,
      "outputs": []
    }
  ]
}