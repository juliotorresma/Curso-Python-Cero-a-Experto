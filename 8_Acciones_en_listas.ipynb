{
  "nbformat": 4,
  "nbformat_minor": 0,
  "metadata": {
    "colab": {
      "name": "8.- Acciones en listas.ipynb",
      "provenance": [],
      "authorship_tag": "ABX9TyOcaKA7B/k2H+6qnccdC8PK",
      "include_colab_link": true
    },
    "kernelspec": {
      "name": "python3",
      "display_name": "Python 3"
    }
  },
  "cells": [
    {
      "cell_type": "markdown",
      "metadata": {
        "id": "view-in-github",
        "colab_type": "text"
      },
      "source": [
        "<a href=\"https://colab.research.google.com/github/juliotorresma/Curso-Python-Cero-a-Experto/blob/main/8_Acciones_en_listas.ipynb\" target=\"_parent\"><img src=\"https://colab.research.google.com/assets/colab-badge.svg\" alt=\"Open In Colab\"/></a>"
      ]
    },
    {
      "cell_type": "markdown",
      "metadata": {
        "id": "D1zYkQsil_j-"
      },
      "source": [
        "## **Acceder a articulos**\n",
        "\n",
        "Puedes consultar el articulo dentro de una lista, utilizando un indice.\n"
      ]
    },
    {
      "cell_type": "code",
      "metadata": {
        "colab": {
          "base_uri": "https://localhost:8080/"
        },
        "id": "WchNtfz-l6B1",
        "outputId": "90a5119a-6c62-46c4-b46e-1adc287b7dfa"
      },
      "source": [
        "thislist = [\"apple\", \"banana\", \"cherry\"]\n",
        "\n",
        "print(thislist[1])"
      ],
      "execution_count": 1,
      "outputs": [
        {
          "output_type": "stream",
          "text": [
            "banana\n"
          ],
          "name": "stdout"
        }
      ]
    },
    {
      "cell_type": "markdown",
      "metadata": {
        "id": "htF_Mm49mWtE"
      },
      "source": [
        "## **Indice negativo**"
      ]
    },
    {
      "cell_type": "code",
      "metadata": {
        "colab": {
          "base_uri": "https://localhost:8080/"
        },
        "id": "bNGv2PAYmgNS",
        "outputId": "88b7e1b8-3332-44e9-f2bf-0144c7e6a783"
      },
      "source": [
        "thislist = [\"apple\", \"banana\", \"cherry\"]\n",
        "print(thislist[-1])"
      ],
      "execution_count": 2,
      "outputs": [
        {
          "output_type": "stream",
          "text": [
            "cherry\n"
          ],
          "name": "stdout"
        }
      ]
    },
    {
      "cell_type": "markdown",
      "metadata": {
        "id": "wwX0ihqmmyek"
      },
      "source": [
        "## **Rango de indices**\n",
        "\n",
        "(Muestra articulos desde un indice inicio, hasta un indice final"
      ]
    },
    {
      "cell_type": "code",
      "metadata": {
        "colab": {
          "base_uri": "https://localhost:8080/"
        },
        "id": "Ds_zVnHmnKbK",
        "outputId": "0ee8528f-7016-4909-ed8e-5d760f1687d9"
      },
      "source": [
        "thislist = [\"apple\", \"banana\", \"cherry\", \"orange\", \"kiwi\", \"melon\", \"mango\"]\n",
        "print(thislist[2:5])"
      ],
      "execution_count": 3,
      "outputs": [
        {
          "output_type": "stream",
          "text": [
            "['cherry', 'orange', 'kiwi']\n"
          ],
          "name": "stdout"
        }
      ]
    },
    {
      "cell_type": "markdown",
      "metadata": {
        "id": "P22TfVqBnjUt"
      },
      "source": [
        "## **Revisar si un articulo existe dentro de una lista**"
      ]
    },
    {
      "cell_type": "code",
      "metadata": {
        "colab": {
          "base_uri": "https://localhost:8080/"
        },
        "id": "Fzr5Sa7Dn4ln",
        "outputId": "58a86658-a225-4c1a-c981-3d6160ce7e41"
      },
      "source": [
        "thislist = [\"apple\", \"banana\", \"cherry\"]\n",
        "\n",
        "if \"apple\" in thislist:\n",
        "  print(\"Si, apple existe dentro de tu lista\")"
      ],
      "execution_count": 4,
      "outputs": [
        {
          "output_type": "stream",
          "text": [
            "Si, apple existe dentro de tu lista\n"
          ],
          "name": "stdout"
        }
      ]
    },
    {
      "cell_type": "markdown",
      "metadata": {
        "id": "G0BwCk6komsx"
      },
      "source": [
        "## **Cambiar el valor dentro de una lista**\n"
      ]
    },
    {
      "cell_type": "code",
      "metadata": {
        "colab": {
          "base_uri": "https://localhost:8080/"
        },
        "id": "ZxQZdEDBo66u",
        "outputId": "2635bfb0-1ce7-4b38-c160-7b52964ec247"
      },
      "source": [
        "thislist = [\"apple\", \"banana\", \"cherry\"]\n",
        "thislist[1] = \"blackcurrant\"\n",
        "print(thislist)"
      ],
      "execution_count": 5,
      "outputs": [
        {
          "output_type": "stream",
          "text": [
            "['apple', 'blackcurrant', 'cherry']\n"
          ],
          "name": "stdout"
        }
      ]
    },
    {
      "cell_type": "markdown",
      "metadata": {
        "id": "If4bk25vpqtq"
      },
      "source": [
        "## **Insertar articulos**\n",
        "\n",
        "\n",
        ".insert(numero de indice, articulo a insertar)"
      ]
    },
    {
      "cell_type": "code",
      "metadata": {
        "colab": {
          "base_uri": "https://localhost:8080/"
        },
        "id": "S28UNRQNqQka",
        "outputId": "1cd54688-c53e-4202-e61e-ba7b73c52e41"
      },
      "source": [
        "thislist = [\"apple\", \"banana\", \"cherry\"]\n",
        "\n",
        "thislist.insert(2, \"watermelon\")\n",
        "\n",
        "print(thislist)"
      ],
      "execution_count": 7,
      "outputs": [
        {
          "output_type": "stream",
          "text": [
            "['apple', 'banana', 'watermelon', 'cherry']\n"
          ],
          "name": "stdout"
        }
      ]
    },
    {
      "cell_type": "markdown",
      "metadata": {
        "id": "xGY7r9DvsKLR"
      },
      "source": [
        "## **Append Articulos**\n",
        "\n",
        "(Insertar articulos al final de la lista)"
      ]
    },
    {
      "cell_type": "code",
      "metadata": {
        "colab": {
          "base_uri": "https://localhost:8080/"
        },
        "id": "NlGlVMVssVkT",
        "outputId": "26c33313-8673-4e52-cc0c-c131905d97d2"
      },
      "source": [
        "thislist = [\"apple\", \"banana\", \"cherry\"]\n",
        "\n",
        "thislist.append(\"orange\")\n",
        "\n",
        "print(thislist)"
      ],
      "execution_count": 6,
      "outputs": [
        {
          "output_type": "stream",
          "text": [
            "['apple', 'banana', 'cherry', 'orange']\n"
          ],
          "name": "stdout"
        }
      ]
    },
    {
      "cell_type": "markdown",
      "metadata": {
        "id": "44VoPOHMsmsj"
      },
      "source": [
        "## **Remover indice especifico**\n",
        "\n",
        ".pop(numero de indice)"
      ]
    },
    {
      "cell_type": "code",
      "metadata": {
        "colab": {
          "base_uri": "https://localhost:8080/"
        },
        "id": "-OXVhuiWs13W",
        "outputId": "e75df88c-f606-4f81-e10f-c5eb794f9856"
      },
      "source": [
        "thislist = [\"apple\", \"banana\", \"cherry\"]\n",
        "\n",
        "thislist.pop(1)\n",
        "\n",
        "print(thislist)"
      ],
      "execution_count": 8,
      "outputs": [
        {
          "output_type": "stream",
          "text": [
            "['apple', 'cherry']\n"
          ],
          "name": "stdout"
        }
      ]
    },
    {
      "cell_type": "markdown",
      "metadata": {
        "id": "5QYvRYWUtdH2"
      },
      "source": [
        "## **Ordenar los articulos dentro de mi lista**\n",
        "\n",
        "*   Orden alfabetico\n",
        "*   Orden numerico\n",
        "\n"
      ]
    },
    {
      "cell_type": "code",
      "metadata": {
        "colab": {
          "base_uri": "https://localhost:8080/"
        },
        "id": "7UfhEzD3tzeP",
        "outputId": "4b1ddec7-cfef-4e15-ad43-4b5174be6d39"
      },
      "source": [
        "thislist = [\"orange\", \"mango\", \"kiwi\", \"pineapple\", \"banana\"]\n",
        "\n",
        "thislist.sort()\n",
        "\n",
        "print(thislist)"
      ],
      "execution_count": 9,
      "outputs": [
        {
          "output_type": "stream",
          "text": [
            "['banana', 'kiwi', 'mango', 'orange', 'pineapple']\n"
          ],
          "name": "stdout"
        }
      ]
    },
    {
      "cell_type": "code",
      "metadata": {
        "colab": {
          "base_uri": "https://localhost:8080/"
        },
        "id": "VzIWZSR8t3bA",
        "outputId": "28660783-da98-454b-b175-8bcf324d49f0"
      },
      "source": [
        "thislist = [100, 50, 65, 82, 23]\n",
        "\n",
        "thislist.sort()\n",
        "\n",
        "print(thislist)"
      ],
      "execution_count": 10,
      "outputs": [
        {
          "output_type": "stream",
          "text": [
            "[23, 50, 65, 82, 100]\n"
          ],
          "name": "stdout"
        }
      ]
    }
  ]
}