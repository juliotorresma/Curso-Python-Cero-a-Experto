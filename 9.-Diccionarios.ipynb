{
  "nbformat": 4,
  "nbformat_minor": 0,
  "metadata": {
    "colab": {
      "name": "9.-Diccionarios.ipynb",
      "provenance": [],
      "authorship_tag": "ABX9TyMIhbpnghNLtDNFUBG0F1oH",
      "include_colab_link": true
    },
    "kernelspec": {
      "name": "python3",
      "display_name": "Python 3"
    }
  },
  "cells": [
    {
      "cell_type": "markdown",
      "metadata": {
        "id": "view-in-github",
        "colab_type": "text"
      },
      "source": [
        "<a href=\"https://colab.research.google.com/github/juliotorresma/Curso-Python-Cero-a-Experto/blob/main/9.-Diccionarios.ipynb\" target=\"_parent\"><img src=\"https://colab.research.google.com/assets/colab-badge.svg\" alt=\"Open In Colab\"/></a>"
      ]
    },
    {
      "cell_type": "markdown",
      "metadata": {
        "id": "7TwdvoZ3U2zc"
      },
      "source": [
        "# **Diccionarios**\n",
        "\n",
        "Los diccionarios se utilizan para almacenar valores de datos en pares clave: valor.\n",
        "\n",
        "Un diccionario es una colección ordenada *, modificable y que no admite duplicados."
      ]
    },
    {
      "cell_type": "code",
      "metadata": {
        "colab": {
          "base_uri": "https://localhost:8080/"
        },
        "id": "Cl5EUNRxIpQ8",
        "outputId": "85fc1a1a-3594-4c34-8041-cd4f036834f2"
      },
      "source": [
        "diccionario = {\n",
        "  \"brand\": \"Ford\",\n",
        "  \"model\": \"Mustang\",\n",
        "  \"year\": 1964\n",
        "}\n",
        "\n",
        "print(diccionario)"
      ],
      "execution_count": 3,
      "outputs": [
        {
          "output_type": "stream",
          "text": [
            "{'brand': 'Ford', 'model': 'Mustang', 'year': 1964}\n"
          ],
          "name": "stdout"
        }
      ]
    },
    {
      "cell_type": "markdown",
      "metadata": {
        "id": "mpMefhbAV-Yj"
      },
      "source": [
        "## **Elementos del diccionario**\n",
        "Los elementos del diccionario están ordenados, se pueden cambiar y no permiten duplicados.\n",
        "\n",
        "Los elementos del diccionario se presentan en pares clave: valor y se puede hacer referencia a ellos mediante el nombre de la clave."
      ]
    },
    {
      "cell_type": "code",
      "metadata": {
        "colab": {
          "base_uri": "https://localhost:8080/"
        },
        "id": "gdWflhkrWKrZ",
        "outputId": "adc0e229-556c-429a-b57f-85e706e04574"
      },
      "source": [
        "thisdict = {\n",
        "  \"brand\": \"Ford\",\n",
        "  \"model\": \"Mustang\",\n",
        "  \"year\": 1964\n",
        "}\n",
        "print(thisdict[\"brand\"])"
      ],
      "execution_count": 4,
      "outputs": [
        {
          "output_type": "stream",
          "text": [
            "Ford\n"
          ],
          "name": "stdout"
        }
      ]
    },
    {
      "cell_type": "markdown",
      "metadata": {
        "id": "yDL8ft6fWObA"
      },
      "source": [
        "## **No se permiten duplicados**\n",
        "Los diccionarios no pueden tener dos elementos con la misma clave:"
      ]
    },
    {
      "cell_type": "code",
      "metadata": {
        "colab": {
          "base_uri": "https://localhost:8080/"
        },
        "id": "Kx3Zpp79WU-M",
        "outputId": "3e9680de-3f74-4325-854b-b1ab145fbf93"
      },
      "source": [
        "thisdict = {\n",
        "  \"brand\": \"Ford\",\n",
        "  \"model\": \"Mustang\",\n",
        "  \"year\": 1964,\n",
        "  \"year\": 2020\n",
        "}\n",
        "print(thisdict)"
      ],
      "execution_count": 5,
      "outputs": [
        {
          "output_type": "stream",
          "text": [
            "{'brand': 'Ford', 'model': 'Mustang', 'year': 2020}\n"
          ],
          "name": "stdout"
        }
      ]
    },
    {
      "cell_type": "markdown",
      "metadata": {
        "id": "12dz_FyLWnpO"
      },
      "source": [
        "## **Elementos del diccionario: tipos de datos**\n",
        "Los valores de los elementos del diccionario pueden ser de cualquier tipo de datos:"
      ]
    },
    {
      "cell_type": "code",
      "metadata": {
        "id": "s1ETYOY4YCs7"
      },
      "source": [
        "thisdict = {\n",
        "  \"brand\": \"Ford\",\n",
        "  \"electric\": False,\n",
        "  \"year\": 1964,\n",
        "  \"colors\": [\"red\", \"white\", \"blue\"]\n",
        "}"
      ],
      "execution_count": 6,
      "outputs": []
    }
  ]
}