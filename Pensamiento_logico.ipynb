{
  "nbformat": 4,
  "nbformat_minor": 0,
  "metadata": {
    "colab": {
      "name": "Pensamiento-logico.ipynb",
      "provenance": [],
      "authorship_tag": "ABX9TyNuWso4pgQaO/1jiHpVRBlI",
      "include_colab_link": true
    },
    "kernelspec": {
      "name": "python3",
      "display_name": "Python 3"
    }
  },
  "cells": [
    {
      "cell_type": "markdown",
      "metadata": {
        "id": "view-in-github",
        "colab_type": "text"
      },
      "source": [
        "<a href=\"https://colab.research.google.com/github/juliotorresma/Curso-Python-Cero-a-Experto/blob/main/Pensamiento_logico.ipynb\" target=\"_parent\"><img src=\"https://colab.research.google.com/assets/colab-badge.svg\" alt=\"Open In Colab\"/></a>"
      ]
    },
    {
      "cell_type": "markdown",
      "metadata": {
        "id": "9aZ-oSx05C_Z"
      },
      "source": [
        "# **Acordeón**\n",
        "\n",
        "es_estudiante = True\n",
        "\n",
        "trabaja = False"
      ]
    },
    {
      "cell_type": "code",
      "metadata": {
        "id": "qEqMnfsT5CPp"
      },
      "source": [
        "es_estudiante = True\n",
        "trabaja = False"
      ],
      "execution_count": 7,
      "outputs": []
    },
    {
      "cell_type": "markdown",
      "metadata": {
        "id": "34iJHFe45aJ2"
      },
      "source": [
        "# **Operador AND**\n",
        "(Multiplicación logica)"
      ]
    },
    {
      "cell_type": "code",
      "metadata": {
        "id": "KWoqm7bd5UWZ"
      },
      "source": [
        "es_estudiante and trabaja"
      ],
      "execution_count": null,
      "outputs": []
    },
    {
      "cell_type": "markdown",
      "metadata": {
        "id": "Y771OJ2s5-S2"
      },
      "source": [
        "# **Operador OR**\n",
        "(Suma logica)"
      ]
    },
    {
      "cell_type": "code",
      "metadata": {
        "id": "KQlOPqrE6A8w"
      },
      "source": [
        "es_estudiante or trabaja"
      ],
      "execution_count": null,
      "outputs": []
    },
    {
      "cell_type": "markdown",
      "metadata": {
        "id": "P4z_gYjv7CZ-"
      },
      "source": [
        "# **Operador NOT**\n",
        "(Invertir)"
      ]
    },
    {
      "cell_type": "code",
      "metadata": {
        "id": "NXagLrOa7KSr"
      },
      "source": [
        "not es_estudiante"
      ],
      "execution_count": null,
      "outputs": []
    },
    {
      "cell_type": "code",
      "metadata": {
        "id": "m39IVZn17MzU"
      },
      "source": [
        "not trabaja"
      ],
      "execution_count": null,
      "outputs": []
    }
  ]
}