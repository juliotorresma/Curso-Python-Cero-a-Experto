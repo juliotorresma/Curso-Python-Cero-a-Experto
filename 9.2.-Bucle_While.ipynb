{
  "nbformat": 4,
  "nbformat_minor": 0,
  "metadata": {
    "colab": {
      "name": "9.1.-Bucle-While.ipynb",
      "provenance": [],
      "authorship_tag": "ABX9TyMZy9vIEdnxiy3CUnjkk0s0",
      "include_colab_link": true
    },
    "kernelspec": {
      "name": "python3",
      "display_name": "Python 3"
    }
  },
  "cells": [
    {
      "cell_type": "markdown",
      "metadata": {
        "id": "view-in-github",
        "colab_type": "text"
      },
      "source": [
        "<a href=\"https://colab.research.google.com/github/juliotorresma/Curso-Python-Cero-a-Experto/blob/main/9.1.-Bucle_While.ipynb\" target=\"_parent\"><img src=\"https://colab.research.google.com/assets/colab-badge.svg\" alt=\"Open In Colab\"/></a>"
      ]
    },
    {
      "cell_type": "markdown",
      "metadata": {
        "id": "2dPOYvbhpPf8"
      },
      "source": [
        "## **El bucle while**\n",
        "Con el ciclo while podemos ejecutar un conjunto de declaraciones siempre que una condición sea verdadera."
      ]
    },
    {
      "cell_type": "code",
      "metadata": {
        "colab": {
          "base_uri": "https://localhost:8080/"
        },
        "id": "nEl1MXYjofS5",
        "outputId": "fd7b5afc-ce99-46ec-9ec3-5e9fbc17f7fd"
      },
      "source": [
        "i = 1\n",
        "#Mientras la variable \"i\" sea menor a 6 continua ciclandote\n",
        "while i < 6:\n",
        "  print(i)\n",
        "  #Ir sumando una unidad a la variable i en cada ciclo dentro del while\n",
        "  i += 1"
      ],
      "execution_count": 1,
      "outputs": [
        {
          "output_type": "stream",
          "text": [
            "1\n",
            "2\n",
            "3\n",
            "4\n",
            "5\n"
          ],
          "name": "stdout"
        }
      ]
    },
    {
      "cell_type": "markdown",
      "metadata": {
        "id": "dIwIW4cHrL5_"
      },
      "source": [
        "## **Declaracion de break**\n",
        "Con la sentencia break podemos detener el ciclo incluso si la condición while es verdadera:"
      ]
    },
    {
      "cell_type": "code",
      "metadata": {
        "colab": {
          "base_uri": "https://localhost:8080/"
        },
        "id": "i1-h7_bMrPnb",
        "outputId": "d667fb9a-0140-4676-c98a-1fe42316acb2"
      },
      "source": [
        "i = 1\n",
        "while i < 6:\n",
        "  print(i)\n",
        "  if i == 3:\n",
        "    #En caso de que la variable el valor 3, rompe el bucle\n",
        "    break\n",
        "  i += 1"
      ],
      "execution_count": 2,
      "outputs": [
        {
          "output_type": "stream",
          "text": [
            "1\n",
            "2\n",
            "3\n"
          ],
          "name": "stdout"
        }
      ]
    },
    {
      "cell_type": "markdown",
      "metadata": {
        "id": "2IppNmrrUJDk"
      },
      "source": [
        ""
      ]
    }
  ]
}
